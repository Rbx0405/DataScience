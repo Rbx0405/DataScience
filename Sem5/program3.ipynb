{
 "cells": [
  {
   "cell_type": "code",
   "execution_count": null,
   "id": "e3f57c9c",
   "metadata": {},
   "outputs": [
    {
     "name": "stdout",
     "output_type": "stream",
     "text": [
      "        Mean  Median  Mode\n",
      "1  85.000000    85.0    78\n",
      "2  81.333333    80.0    76\n",
      "3  85.666667    85.0    82\n"
     ]
    }
   ],
   "source": [
    "#Mean, Median, Mode for each student in a DataFrame\n",
    "import pandas as pd\n",
    "import numpy as np\n",
    "\n",
    "\n",
    "dict1 = {\n",
    "    \"Name\": ['Om', 'Sai', 'Ram'],\n",
    "    \"USN\": [120, 133, 129],\n",
    "    \"Math\": [85, 76, 90],\n",
    "    \"Physics\": [78, 88, 82],\n",
    "    \"Chemistry\": [92, 80, 85]\n",
    "}\n",
    "\n",
    "df = pd.DataFrame(dict1)\n",
    "df.index = [\"1\", \"2\", \"3\"]\n",
    "\n",
    "stats = pd.DataFrame({\n",
    "    \"Mean\": df[[\"Math\", \"Physics\", \"Chemistry\"]].mean(axis=1),\n",
    "    \"Median\": df[[\"Math\", \"Physics\", \"Chemistry\"]].median(axis=1),\n",
    "    \"Mode\": df[[\"Math\", \"Physics\", \"Chemistry\"]].mode(axis=1)[0]\n",
    "}, index=df.index)\n",
    "\n",
    "print(stats)"
   ]
  },
  {
   "cell_type": "code",
   "execution_count": 28,
   "id": "226ba0e9",
   "metadata": {},
   "outputs": [
    {
     "name": "stdout",
     "output_type": "stream",
     "text": [
      "Variance: 10\n",
      "Standard Deviation: 3.1622776601683795\n",
      "   Numbers\n",
      "0        1\n",
      "1        3\n",
      "2        5\n",
      "3        7\n",
      "4        9\n",
      "Numbers    0.0\n",
      "dtype: float64\n"
     ]
    }
   ],
   "source": [
    "import pandas as pd\n",
    "import numpy as np\n",
    "import statistics as st\n",
    "\n",
    "nums = [1, 3, 5, 7, 9]\n",
    "\n",
    "# Using statistics module\n",
    "print(\"Variance:\", st.variance(nums))  \n",
    "print(\"Standard Deviation:\", st.stdev(nums))  \n",
    "df = pd.DataFrame(nums, columns=[\"Numbers\"])\n",
    "print(df)\n",
    "\n",
    "print(df.skew())"
   ]
  }
 ],
 "metadata": {
  "kernelspec": {
   "display_name": "base",
   "language": "python",
   "name": "python3"
  },
  "language_info": {
   "codemirror_mode": {
    "name": "ipython",
    "version": 3
   },
   "file_extension": ".py",
   "mimetype": "text/x-python",
   "name": "python",
   "nbconvert_exporter": "python",
   "pygments_lexer": "ipython3",
   "version": "3.13.5"
  }
 },
 "nbformat": 4,
 "nbformat_minor": 5
}
