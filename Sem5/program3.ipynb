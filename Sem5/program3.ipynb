{
 "cells": [
  {
   "cell_type": "code",
   "execution_count": 36,
   "id": "e3f57c9c",
   "metadata": {},
   "outputs": [
    {
     "name": "stdout",
     "output_type": "stream",
     "text": [
      "        Mean  Median  Mode\n",
      "1  85.000000    85.0    78\n",
      "2  81.333333    80.0    76\n",
      "3  85.666667    85.0    82\n"
     ]
    },
    {
     "data": {
      "text/html": [
       "<div>\n",
       "<style scoped>\n",
       "    .dataframe tbody tr th:only-of-type {\n",
       "        vertical-align: middle;\n",
       "    }\n",
       "\n",
       "    .dataframe tbody tr th {\n",
       "        vertical-align: top;\n",
       "    }\n",
       "\n",
       "    .dataframe thead th {\n",
       "        text-align: right;\n",
       "    }\n",
       "</style>\n",
       "<table border=\"1\" class=\"dataframe\">\n",
       "  <thead>\n",
       "    <tr style=\"text-align: right;\">\n",
       "      <th></th>\n",
       "      <th>USN</th>\n",
       "      <th>Math</th>\n",
       "      <th>Physics</th>\n",
       "      <th>Chemistry</th>\n",
       "    </tr>\n",
       "  </thead>\n",
       "  <tbody>\n",
       "    <tr>\n",
       "      <th>count</th>\n",
       "      <td>3.000000</td>\n",
       "      <td>3.000000</td>\n",
       "      <td>3.000000</td>\n",
       "      <td>3.000000</td>\n",
       "    </tr>\n",
       "    <tr>\n",
       "      <th>mean</th>\n",
       "      <td>127.333333</td>\n",
       "      <td>83.666667</td>\n",
       "      <td>82.666667</td>\n",
       "      <td>85.666667</td>\n",
       "    </tr>\n",
       "    <tr>\n",
       "      <th>std</th>\n",
       "      <td>6.658328</td>\n",
       "      <td>7.094599</td>\n",
       "      <td>5.033223</td>\n",
       "      <td>6.027714</td>\n",
       "    </tr>\n",
       "    <tr>\n",
       "      <th>min</th>\n",
       "      <td>120.000000</td>\n",
       "      <td>76.000000</td>\n",
       "      <td>78.000000</td>\n",
       "      <td>80.000000</td>\n",
       "    </tr>\n",
       "    <tr>\n",
       "      <th>25%</th>\n",
       "      <td>124.500000</td>\n",
       "      <td>80.500000</td>\n",
       "      <td>80.000000</td>\n",
       "      <td>82.500000</td>\n",
       "    </tr>\n",
       "    <tr>\n",
       "      <th>50%</th>\n",
       "      <td>129.000000</td>\n",
       "      <td>85.000000</td>\n",
       "      <td>82.000000</td>\n",
       "      <td>85.000000</td>\n",
       "    </tr>\n",
       "    <tr>\n",
       "      <th>75%</th>\n",
       "      <td>131.000000</td>\n",
       "      <td>87.500000</td>\n",
       "      <td>85.000000</td>\n",
       "      <td>88.500000</td>\n",
       "    </tr>\n",
       "    <tr>\n",
       "      <th>max</th>\n",
       "      <td>133.000000</td>\n",
       "      <td>90.000000</td>\n",
       "      <td>88.000000</td>\n",
       "      <td>92.000000</td>\n",
       "    </tr>\n",
       "  </tbody>\n",
       "</table>\n",
       "</div>"
      ],
      "text/plain": [
       "              USN       Math    Physics  Chemistry\n",
       "count    3.000000   3.000000   3.000000   3.000000\n",
       "mean   127.333333  83.666667  82.666667  85.666667\n",
       "std      6.658328   7.094599   5.033223   6.027714\n",
       "min    120.000000  76.000000  78.000000  80.000000\n",
       "25%    124.500000  80.500000  80.000000  82.500000\n",
       "50%    129.000000  85.000000  82.000000  85.000000\n",
       "75%    131.000000  87.500000  85.000000  88.500000\n",
       "max    133.000000  90.000000  88.000000  92.000000"
      ]
     },
     "execution_count": 36,
     "metadata": {},
     "output_type": "execute_result"
    }
   ],
   "source": [
    "#Mean, Median, Mode for each student in a DataFrame\n",
    "import pandas as pd\n",
    "import numpy as np\n",
    "\n",
    "\n",
    "dict1 = {\n",
    "    \"Name\": ['Om', 'Sai', 'Ram'],\n",
    "    \"USN\": [120, 133, 129],\n",
    "    \"Math\": [85, 76, 90],\n",
    "    \"Physics\": [78, 88, 82],\n",
    "    \"Chemistry\": [92, 80, 85]\n",
    "}\n",
    "\n",
    "df = pd.DataFrame(dict1)\n",
    "df.index = [\"1\", \"2\", \"3\"]\n",
    "\n",
    "stats = pd.DataFrame({\n",
    "    \"Mean\": df[[\"Math\", \"Physics\", \"Chemistry\"]].mean(axis=1),\n",
    "    \"Median\": df[[\"Math\", \"Physics\", \"Chemistry\"]].median(axis=1),\n",
    "    \"Mode\": df[[\"Math\", \"Physics\", \"Chemistry\"]].mode(axis=1)[0]\n",
    "}, index=df.index)\n",
    "\n",
    "\n",
    "print(stats)\n",
    "df.describe()"
   ]
  },
  {
   "cell_type": "code",
   "execution_count": null,
   "id": "fd82a126",
   "metadata": {},
   "outputs": [
    {
     "data": {
      "text/plain": [
       "F_onewayResult(statistic=np.float64(4.625000000000002), pvalue=np.float64(0.016336459839780215))"
      ]
     },
     "execution_count": 37,
     "metadata": {},
     "output_type": "execute_result"
    }
   ],
   "source": [
    "#anova test\n",
    "from scipy.stats import f_oneway\n",
    "\n",
    "\n",
    "performance1 = [89, 89, 88, 78, 79]\n",
    "performance2 = [93, 92, 94, 89, 88]\n",
    "performance3 = [89, 88, 89, 93, 90]\n",
    "performance4 = [81, 78, 81, 92, 82]\n",
    "\n",
    "\n",
    "f_oneway(performance1, performance2, performance3, performance4)"
   ]
  },
  {
   "cell_type": "code",
   "execution_count": 38,
   "id": "b4bbdb42",
   "metadata": {},
   "outputs": [
    {
     "name": "stdout",
     "output_type": "stream",
     "text": [
      "        bp_before    bp_after\n",
      "count  120.000000  120.000000\n",
      "mean   156.450000  151.358333\n",
      "std     11.389845   14.177622\n",
      "min    138.000000  125.000000\n",
      "25%    147.000000  140.750000\n",
      "50%    154.500000  149.500000\n",
      "75%    164.000000  161.000000\n",
      "max    185.000000  185.000000\n",
      "\n",
      "P-value: 0.0011297914644840823\n",
      "Reject null hypothesis: Significant difference in blood pressure\n"
     ]
    }
   ],
   "source": [
    "#hypothesis Testing (Paired T-Test)\n",
    "import pandas as pd\n",
    "from scipy import stats\n",
    "df = pd.read_csv(\"blood_pressure.csv\")\n",
    "print(df[['bp_before', 'bp_after']].describe())\n",
    "ttest, pval = stats.ttest_rel(df['bp_before'], df['bp_after'])\n",
    "print(\"\\nP-value:\", pval)\n",
    "if pval < 0.05:\n",
    "    print(\"Reject null hypothesis: Significant difference in blood pressure\")\n",
    "else:\n",
    "    print(\"Accept null hypothesis: No significant difference in blood pressure\")"
   ]
  },
  {
   "cell_type": "code",
   "execution_count": 39,
   "id": "226ba0e9",
   "metadata": {},
   "outputs": [
    {
     "name": "stdout",
     "output_type": "stream",
     "text": [
      "Variance: 10\n",
      "Standard Deviation: 3.1622776601683795\n",
      "   Numbers\n",
      "0        1\n",
      "1        3\n",
      "2        5\n",
      "3        7\n",
      "4        9\n",
      "Numbers    0.0\n",
      "dtype: float64\n"
     ]
    }
   ],
   "source": [
    "import pandas as pd\n",
    "import numpy as np\n",
    "import statistics as st\n",
    "\n",
    "nums = [1, 3, 5, 7, 9]\n",
    "\n",
    "# Using statistics module\n",
    "print(\"Variance:\", st.variance(nums))  \n",
    "print(\"Standard Deviation:\", st.stdev(nums))  \n",
    "df = pd.DataFrame(nums, columns=[\"Numbers\"])\n",
    "print(df)\n",
    "\n",
    "print(df.skew())"
   ]
  }
 ],
 "metadata": {
  "kernelspec": {
   "display_name": "base",
   "language": "python",
   "name": "python3"
  },
  "language_info": {
   "codemirror_mode": {
    "name": "ipython",
    "version": 3
   },
   "file_extension": ".py",
   "mimetype": "text/x-python",
   "name": "python",
   "nbconvert_exporter": "python",
   "pygments_lexer": "ipython3",
   "version": "3.13.5"
  }
 },
 "nbformat": 4,
 "nbformat_minor": 5
}
